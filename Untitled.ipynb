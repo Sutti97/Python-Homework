{
 "cells": [
  {
   "cell_type": "code",
   "execution_count": 1,
   "id": "d39ff02e-908a-4e6d-b3a3-81fb108d58a4",
   "metadata": {},
   "outputs": [],
   "source": [
    "import pandas as pd"
   ]
  },
  {
   "cell_type": "code",
   "execution_count": 4,
   "id": "a39792a8-2704-4925-98f4-a9492fe6d490",
   "metadata": {
    "tags": []
   },
   "outputs": [
    {
     "data": {
      "text/html": [
       "<div>\n",
       "<style scoped>\n",
       "    .dataframe tbody tr th:only-of-type {\n",
       "        vertical-align: middle;\n",
       "    }\n",
       "\n",
       "    .dataframe tbody tr th {\n",
       "        vertical-align: top;\n",
       "    }\n",
       "\n",
       "    .dataframe thead th {\n",
       "        text-align: right;\n",
       "    }\n",
       "</style>\n",
       "<table border=\"1\" class=\"dataframe\">\n",
       "  <thead>\n",
       "    <tr style=\"text-align: right;\">\n",
       "      <th></th>\n",
       "      <th>Date</th>\n",
       "      <th>Profit/Losses</th>\n",
       "    </tr>\n",
       "  </thead>\n",
       "  <tbody>\n",
       "    <tr>\n",
       "      <th>0</th>\n",
       "      <td>Jan-10</td>\n",
       "      <td>867884</td>\n",
       "    </tr>\n",
       "    <tr>\n",
       "      <th>1</th>\n",
       "      <td>Feb-10</td>\n",
       "      <td>984655</td>\n",
       "    </tr>\n",
       "    <tr>\n",
       "      <th>2</th>\n",
       "      <td>Mar-10</td>\n",
       "      <td>322013</td>\n",
       "    </tr>\n",
       "    <tr>\n",
       "      <th>3</th>\n",
       "      <td>Apr-10</td>\n",
       "      <td>-69417</td>\n",
       "    </tr>\n",
       "    <tr>\n",
       "      <th>4</th>\n",
       "      <td>May-10</td>\n",
       "      <td>310503</td>\n",
       "    </tr>\n",
       "  </tbody>\n",
       "</table>\n",
       "</div>"
      ],
      "text/plain": [
       "     Date  Profit/Losses\n",
       "0  Jan-10         867884\n",
       "1  Feb-10         984655\n",
       "2  Mar-10         322013\n",
       "3  Apr-10         -69417\n",
       "4  May-10         310503"
      ]
     },
     "execution_count": 4,
     "metadata": {},
     "output_type": "execute_result"
    }
   ],
   "source": [
    "filepath = \"C:/Users/Angelo/Desktop/GitHub/Python-HomeworkPyBank/budget_data.csv\"\n",
    "df = pd.read_csv(filepath)\n",
    "df.head()"
   ]
  },
  {
   "cell_type": "code",
   "execution_count": 18,
   "id": "ec9a3dc1-1f71-4ccf-b731-00d0bb38e411",
   "metadata": {},
   "outputs": [],
   "source": [
    "net_profit = df[\"Profit/Losses\"].sum()"
   ]
  },
  {
   "cell_type": "code",
   "execution_count": 19,
   "id": "6c804daa-a572-41eb-aeb9-50f7bd7ef91e",
   "metadata": {},
   "outputs": [],
   "source": [
    "months = df[\"Date\"].count()"
   ]
  },
  {
   "cell_type": "code",
   "execution_count": 20,
   "id": "76b2d989-dbcb-4e8c-94c5-3c9a96f59770",
   "metadata": {},
   "outputs": [],
   "source": [
    "df[\"Changes\"] = df[\"Profit/Losses\"].diff()\n",
    "average = df[\"Changes\"].mean()\n",
    "avg = round(average, 2)"
   ]
  },
  {
   "cell_type": "code",
   "execution_count": 21,
   "id": "3f225dd6-f398-48e9-8763-c1584b5377a8",
   "metadata": {},
   "outputs": [],
   "source": [
    "mini = df.Changes.min()"
   ]
  },
  {
   "cell_type": "code",
   "execution_count": 22,
   "id": "30ce9b6c-927b-4607-8f77-ff3e07d77682",
   "metadata": {},
   "outputs": [],
   "source": [
    "mask = df.Changes ==df.Changes.min()\n",
    "greatest_loss = df.loc[mask].Date"
   ]
  },
  {
   "cell_type": "code",
   "execution_count": 23,
   "id": "1beda3cd-3594-4f3b-8ea5-297c2c3c17a3",
   "metadata": {},
   "outputs": [],
   "source": [
    "maxi = df.Changes.max()"
   ]
  },
  {
   "cell_type": "code",
   "execution_count": 24,
   "id": "1f8881e6-6601-4023-bdda-19b46f50ac57",
   "metadata": {},
   "outputs": [
    {
     "name": "stdout",
     "output_type": "stream",
     "text": [
      "1926159.0\n"
     ]
    }
   ],
   "source": [
    "print(maxi)"
   ]
  },
  {
   "cell_type": "code",
   "execution_count": 25,
   "id": "fd6b4b0e-c1f2-475d-9bb8-e76a9712bfe3",
   "metadata": {},
   "outputs": [],
   "source": [
    "mask- df.Changes ==df.Changes.max()\n",
    "greatest_increase = df.loc[mask].Date"
   ]
  },
  {
   "cell_type": "code",
   "execution_count": 27,
   "id": "8e8fd97e-b462-48d2-8454-588a72399689",
   "metadata": {},
   "outputs": [
    {
     "name": "stdout",
     "output_type": "stream",
     "text": [
      "Financial Analysis\n",
      "---------------------------------\n",
      "Total Months: 86\n",
      "Net Profit: 38382578\n",
      "Average Monthly Change: -2315.12\n",
      "44    Greatest increase In Profits: Sep-13 1926159.0\n",
      "Name: Date, dtype: object\n",
      "44    Greatest Loss in Profits: Sep-13 -2196167.0\n",
      "Name: Date, dtype: object\n"
     ]
    }
   ],
   "source": [
    "print(\"Financial Analysis\")\n",
    "print(\"---------------------------------\")\n",
    "print(\"Total Months: \" + str(months))\n",
    "print(\"Net Profit: \"+ str(net_profit))\n",
    "print(\"Average Monthly Change: \" + str(avg))\n",
    "print(\"Greatest increase In Profits: \" + greatest_increase + \" \" + str(maxi))\n",
    "print(\"Greatest Loss in Profits: \" + greatest_loss+ \" \" + str(mini))"
   ]
  },
  {
   "cell_type": "code",
   "execution_count": null,
   "id": "719a5a19-a582-4af2-be6a-7e687d4a3d3d",
   "metadata": {},
   "outputs": [],
   "source": []
  }
 ],
 "metadata": {
  "kernelspec": {
   "display_name": "Python 3",
   "language": "python",
   "name": "python3"
  },
  "language_info": {
   "codemirror_mode": {
    "name": "ipython",
    "version": 3
   },
   "file_extension": ".py",
   "mimetype": "text/x-python",
   "name": "python",
   "nbconvert_exporter": "python",
   "pygments_lexer": "ipython3",
   "version": "3.8.5"
  }
 },
 "nbformat": 4,
 "nbformat_minor": 5
}
